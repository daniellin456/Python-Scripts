{
 "cells": [
  {
   "cell_type": "markdown",
   "id": "cca4be70-05a5-4a02-ae0b-071a61cb94f4",
   "metadata": {
    "tags": []
   },
   "source": [
    "#### Cooling"
   ]
  },
  {
   "cell_type": "markdown",
   "id": "b7bba7e7-3c55-45cc-998a-f2b694290f7a",
   "metadata": {
    "tags": []
   },
   "source": [
    "$C_{II} = 1.5108 \\times 10^{-26} {T^{-0.25}\\over{n}} e^{-92\\over T} + 2.06\\times 10^{-27} T^{0.07}e^{-92\\over T}$\n",
    "\n",
    "$\\frac{\\partial C_{II}}{\\partial \\rho} = -1.5108 \\times 10^{-26} {T^{-0.25}\\over n^2} e^{-92\\over T}$\n",
    "\n",
    "$\\frac{\\partial C_{II}}{\\partial T} = { -1.5108 \\times 10^{-26} \\over n } e^{-92\\over T} (-0.25T^{-1.25} + 92T^{-2.25}) + 2.06\\times 10^{-27} e^{-92\\over T} (0.07T^{-0.93} + 92T^{-1.93}) $"
   ]
  },
  {
   "cell_type": "markdown",
   "id": "8ffc6b15-ba9e-413a-af2b-8aaf0a7d4afd",
   "metadata": {
    "tags": []
   },
   "source": [
    "$O_{I} = 1.08 \\times 10^{-28} e^{-228 \\over T} + 3.15\\times 10^{-29} e^{-326\\over T}$\n",
    "\n",
    "$\\frac{\\partial O_{I}}{\\partial \\rho} = 0$\n",
    "\n",
    "$\\frac{\\partial O_{I}}{\\partial T} = 2.4624\\times 10^{-26} e^{-228 \\over T}T^{-2} + 1.0629\\times 10^{-26} e^{-326 \\over T}T^{-2}$"
   ]
  },
  {
   "cell_type": "markdown",
   "id": "a5f8d9f7-7d0a-4f13-9273-377c7132da35",
   "metadata": {
    "tags": []
   },
   "source": [
    "$H_2 = 1.1081\\times 10^{-21} { T^{0.25} \\over {n} } e^{-118400 \\over T}$\n",
    "\n",
    "$\\frac{\\partial H_2}{\\partial \\rho} = -1.1081\\times 10^{-21}  {T^{0.25} \\over n^2 } e^{-118400 \\over T}$\n",
    "\n",
    "$\\frac{\\partial H_2}{\\partial T} = {1.1081\\times 10^{-21} \\over n } e^{-118400 \\over T}(0.25T^{-0.75} + 118400T^{-1.75})$"
   ]
  },
  {
   "cell_type": "markdown",
   "id": "1d66b018-af9b-4dfb-8fe7-227a02fe23df",
   "metadata": {
    "tags": []
   },
   "source": [
    "$C_{IIM} = 4.1819 \\times 10^{-24} {T^{-0.25}\\over n} e^{-6.2\\times 10^4 \\over T} + 1.19784 \\times 10^{-27}e^{-6.2\\times 10^4 \\over T}$\n",
    "\n",
    "$\\frac{\\partial C_{IIM}}{\\partial \\rho} =  -4.1819 \\times 10^{-24} {T^{-0.25}\\over n^2} e^{-6.2\\times 10^4 \\over T}$\n",
    "\n",
    "$\\frac{\\partial C_{IIM}}{\\partial T} = {4.1819 \\times 10^{-24} \\over n} e^{-6.2\\times 10^4 \\over T}(-0.25T^{-1.25} + 6.2\\times 10^4 T^{-2.25}) + 7.426\\times 10^{-23}e^{-6.2\\times 10^{4} \\over T}T^{-2}$"
   ]
  },
  {
   "cell_type": "markdown",
   "id": "8aaa34d4-af99-461c-a7ea-b7ffd7c4bb1a",
   "metadata": {
    "tags": []
   },
   "source": [
    "$O_{IM} = 1.9343\\times 10^{-29} {T^{0.82}\\over n} e^{-2.3\\times 10^4 \\over T} + 4.761\\times 10^{-28}e^{-2.3\\times 10^4 \\over T} + 2.02\\times 10^{-29} {T^{0.82}\\over n} e^{-4.9\\times 10^4 \\over T} + 1.0143\\times 10^{-27}e^{-4.9\\times 10^4 \\over T} + 6.688\\times 10^{-29} {T^{0.82}\\over n} e^{-2.6\\times 10^4 \\over T} + 1.6146\\times 10^{-27}e^{-2.6\\times 10^4 \\over T}$\n",
    "\n",
    "$\\frac{\\partial O_{IM}}{\\partial \\rho} = -1.9343\\times 10^{-29} {T^{0.82}\\over n^2} e^{-2.3\\times 10^4 \\over T} - 2.02\\times 10^{-29} {T^{0.82}\\over n^2} e^{-4.9\\times 10^4 \\over T} - 6.688\\times 10^{-29} {T^{0.82}\\over n^2} e^{-2.6\\times 10^4 \\over T}$\n",
    "\n",
    "$\\frac{\\partial O_{IM}}{\\partial T} = 1.913\\times 10^{-29}n^{-1}e^{-2.3\\times10^4\\over T}(0.82T^{-0.18}+2.3\\times 10^{-4}T^{-1.18}) + 1.096\\times10^{-23}e^{-6.2\\times 10^4\\over T}T^{-2} + 2.02\\times 10^{-29}n^{-1}e^{-4.9\\times 10^4 \\over T}(0.82T^{-0.18} + 4.9\\times 10^4 T^{-1.18}) + 5.411\\times 10^{-23}e^{-4.9\\times 10^4\\over T}T^{-2} + 6.688\\times 10^{-29}n^{-1}e^{-2.6\\times 10^4\\over T}(0.82T^{-0.18} + 2.6\\times 10^4T^{-1.18}) + 4.19796\\times 10^{-23}e^{-2.6\\times 10^4}T^{-2}$"
   ]
  },
  {
   "cell_type": "markdown",
   "id": "08c3c7b4-06c0-48f7-983c-41d7a7d5355c",
   "metadata": {
    "tags": []
   },
   "source": [
    "$Rec = {7.0582\\times 10^{-33}T^{1.19} \\over n} (8.929\\times 10^{-4} T^{0.75})^{0.74\\over T^{0.068}}$\n",
    "\n",
    "$\\frac{\\partial Rec}{\\partial \\rho} = -{7.0582\\times 10^{-33}T^{1.19} \\over n^2} (8.929\\times 10^{-4} T^{0.75})^{0.74\\over T^{0.068}}$\n",
    "\n",
    "$\\frac{\\partial Rec}{\\partial T} = 1.19 T^{0.19}\\times 7.0582\\times 10^{-33} (8.929\\times 10^4T^{0.75})^{0.74\\over T^{0.068}} + 7.0582\\times 10^{-33}T^{1.19} \\times { [0.908-0.0503ln(T^{0.75})]\\times({ 8.929\\times10^{-4}T^{0.75}})^{0.74\\over T^{0.068}} \\over T^{1.068}}$"
   ]
  },
  {
   "cell_type": "markdown",
   "id": "1c19c0e3-0a65-419c-a57b-48e7f35b7a1e",
   "metadata": {
    "tags": []
   },
   "source": [
    "### Heating"
   ]
  },
  {
   "cell_type": "markdown",
   "id": "c4afb499-4150-4bcf-b9db-a30a7759011b",
   "metadata": {
    "tags": []
   },
   "source": [
    "$\\Gamma = {2.8823\\times 10^{-26} \\over 1 + 2.379\\times 10^{-5}T^{0.5475}} + {3.4494\\times 10^{-29} T^{0.7} \\over 1 + 1.7858\\times 10^{-7} T^{0.75}}$\n",
    "\n",
    "$\\frac{\\partial \\Gamma}{\\partial \\rho} = 0$\n",
    "\n",
    "$\\frac{\\partial \\Gamma}{\\partial T} = {-3.7542\\times 10^{-31} \\over ( 1 + 2.379\\times 10^{-5}T^{0.5475})^2 T^{0.4525}} + {2.41458\\times 10^{-29} \\over (1+1.7858\\times 10^{-7}T^{0.75})T^{0.3}} - { 4.6199\\times 10^{-36} T^{0.45} \\over (1+1.7858\\times 10^{-7}T^{0.75})^2}$"
   ]
  },
  {
   "cell_type": "markdown",
   "id": "4c85b7be-4611-4250-9853-b3ad80f27b64",
   "metadata": {
    "tags": []
   },
   "source": [
    "### Total Cooling / Heating Rate\n",
    "\n",
    "$\\Lambda_{tot} \\propto \\rho^m T^n = |n\\Gamma - n^2\\Lambda|$\n",
    "\n",
    "$ m = \\frac{\\partial log \\Lambda_{tot}}{\\partial log \\rho} = \\frac{\\rho}{\\Lambda_{tot} }\\frac{\\partial \\Lambda_{tot}}{\\partial \\rho}$\n",
    "\n",
    "$ m = \\frac{\\rho}{\\Lambda_{tot} }|(\\Gamma + n\\frac{\\partial \\Gamma}{\\partial \\rho}) - (2n\\Lambda + n^2\\frac{\\partial \\Lambda}{\\partial \\rho})|$\n",
    "\n",
    "$ n = \\frac{\\partial log \\Lambda_{tot} }{\\partial log T} = \\frac{T}{\\Lambda_{tot} }\\frac{\\partial \\Lambda_{tot} }{\\partial T}$\n",
    "\n",
    "$ n = \\frac{T}{\\Lambda_{tot} }|(n\\frac{\\partial \\Gamma}{\\partial T}) - (n^2\\frac{\\partial \\Lambda}{\\partial T})|$\n",
    "\n",
    "${c\\over 2} = 1 + {d\\over 2} = {3-2m \\over 5 - 2m - 2n}$\n",
    "\n",
    "$\\Gamma_1 = {2 \\gamma ({ d \\over 3 }+ 1 ) + ( n - m )[ c - (\\gamma -1 )d] \\over 2({ d \\over 3 }+ 1 ) + ( n - 1 )[ c - (\\gamma -1 )d]}$\n",
    "\n",
    "$\\Gamma_2 = 1 + { 3 - 2m \\over 2(n-1)}$\n",
    "\n",
    "$\\Gamma_3 = 1 + {2-m \\over n - 1}$"
   ]
  },
  {
   "cell_type": "code",
   "execution_count": 1,
   "id": "735a28b7-0b63-43ed-803c-cec0e6434d80",
   "metadata": {},
   "outputs": [
    {
     "name": "stdout",
     "output_type": "stream",
     "text": [
      "242.13s - pydevd: Sending message related to process being replaced timed-out after 5 seconds\n",
      "Python 3.11.0\n"
     ]
    }
   ],
   "source": [
    "import numpy as np\n",
    "import matplotlib.pyplot as plt\n",
    "!python3 --version"
   ]
  },
  {
   "cell_type": "code",
   "execution_count": 2,
   "id": "49af1ada-90db-43f2-8eca-9af9a0653917",
   "metadata": {},
   "outputs": [],
   "source": [
    "def cooling( rho, T ):\n",
    "    CII = 1.5108e-26 * T ** -0.25 * np.exp(-92/T) * n ** -1 + 2.06e-27 * T ** 0.07 * np.exp(-92/T)\n",
    "    OI = 1.08e-28 * np.exp(-228/T) + 3.15e-29 * np.exp(-326/T)\n",
    "    H2 = 1.1081e-21 * T ** 0.25 * np.exp(-118400/T) * n ** -1\n",
    "    CII_M = 4.1819e-24 * T ** -0.25 * np.exp(-6.2e4/T) * n ** -1 + 1.19784e-27 * np.exp(-6.2e4/T)\n",
    "    OI_M = 1.9343e-29 * T ** 0.82 * np.exp(-2.3e4/T) * n ** -1 + 4.761e-28 * np.exp(-2.3e4/T) + 2.02e-29 * T ** 0.82 * np.exp(-4.9e4/T) * n ** -1 + \\\n",
    "           1.0143e-27 * np.exp(-4.9e4/T) + 6.688e-29 * T ** 0.82 * np.exp(-2.6e4/T) * n ** -1 + 1.6146e-27 * np.exp(-2.6e4/T)\n",
    "    Rec = 7.0582e-33 * T ** 1.19 * (8.929e-4 * T ** 0.75 ) ** ( 0.74 / (T ** 0.068) ) * n ** -2\n",
    "    return CII + OI + H2 + CII_M + OI_M + Rec"
   ]
  },
  {
   "cell_type": "code",
   "execution_count": 3,
   "id": "eebef65b-9b76-4e6d-b023-b76699d0980c",
   "metadata": {},
   "outputs": [],
   "source": [
    "def heating( rho, T ):\n",
    "    return 2.8823e-26 / ( 1+2.379e-5 * T ** 0.5475) + 3.4494e-29 * T ** 0.7 / (1 + 1.7858e-7 * T ** 0.75)"
   ]
  },
  {
   "cell_type": "code",
   "execution_count": 4,
   "id": "e2b96ee2-ee93-4b07-b971-507c413e2ba8",
   "metadata": {},
   "outputs": [],
   "source": [
    "def dLambdadRho( rho, T ):\n",
    "    dCIIdRho = -1.5108e-26 * T ** -0.25 * n ** -2 * np.exp(-92/T) + 2.06e-27 * T ** 0.07 * np.exp(-92/T)\n",
    "    dOIdRho = 0\n",
    "    dH2dRho = -1.1081e-21 * T ** 0.25 * n ** -2 * np.exp(-118400/T)\n",
    "    dCIIMdRho = -4.1819e-24 * T ** -0.25 * np.exp( -6.2e4 / T ) * n ** -2\n",
    "    dOIMdRho = -1.9343e-29 * T ** 0.82 * np.exp(-2.3e4/T) * n ** -2 - 2.02e-29 * T ** 0.82 * np.exp(-4.9e4/T) * n ** -2 - 6.688e-29 * T ** 0.82 * np.exp(-2.6e4/T) * n ** -2\n",
    "    dRecdRho = -7.0582e-33 * T ** 1.19 * n ** -2 * (8.929e-4 * T ** 0.75) ** (0.74 / (T**0.068))\n",
    "    return dCIIdRho + dOIdRho + dH2dRho + dCIIdRho + dOIMdRho + dRecdRho"
   ]
  },
  {
   "cell_type": "code",
   "execution_count": 5,
   "id": "41476bbd-c6d0-4e05-8423-8f1bef32fb68",
   "metadata": {},
   "outputs": [],
   "source": [
    "def dLambdadT( rho, T ):\n",
    "    dCIIdT = -1.5108e-26 * np.exp(-92/T) * n ** -1 * (-0.25 * T ** -1.25 + 92 * T ** -2.25) + 2.06e-27 * np.exp(-92/T) * (0.07 * T **-0.93 + 92 * T ** -1.93)\n",
    "    dOIdT = 2.4624e-26 * np.exp(-228/T) * T ** -2 + 1.0629e-26 * np.exp(-326/T) * T ** -2\n",
    "    dH2dT = 1.1081e-21 * np.exp(-118400/T) * n ** -1 * (0.25 * T ** -0.75 + 118400 * T ** -1.75)\n",
    "    dCIIMdT = 4.1819e-24 * np.exp(-6.2e4/T) * n ** -1 * ( -0.25 * T ** -1.25 + 6.2e4 * T ** -2.25) + 7.426e-23 * np.exp(-6.2e4/T) * T ** -2\n",
    "    dOIMdT = 1.1913e-29 * n ** -1 * np.exp(-2.3e4/T) * (0.82 * T ** -0.18 + 2.3e-4 * T ** -1.18) + 1.096e-23 * np.exp(-6.2e4/T) * T ** -2 + \\\n",
    "             2.02e-29 * n ** -1 * np.exp(-4.9e4/T) * (0.82 * T ** -0.18 + 4.9e4 * T ** -1.18) + 5.411e-23 * np.exp(-4.9e4/T) * T**-2 +  \\\n",
    "             6.688e-29 * n ** -1 * np.exp(-2.6e4/T) * (0.82 * T ** -0.18 + 2.6e4 * T ** -1.18) + 4.19796e-23 * np.exp(-2.6e4) * T**-2\n",
    "    dRecdT = 1.19 * T ** 0.19 * 7.0582e-33 * (8.929e4 * T ** 0.75 ) ** (0.74 / (T**0.068)) + \\\n",
    "             7.0582e-33 * T ** 1.19 * ((0.908 - 0.0503 * np.log(T ** 0.75)) * (8.929e-4 * T ** 0.75) ** ( 0.74 / (T**0.068) )) / (T ** 1.068)\n",
    "    return dCIIdT + dOIdT + dH2dT + dCIIdT + dRecdT"
   ]
  },
  {
   "cell_type": "code",
   "execution_count": 6,
   "id": "76661459-190f-4d99-bc57-00970a89aa8c",
   "metadata": {},
   "outputs": [],
   "source": [
    "def dGammadRho( rho, T ):\n",
    "    return 0"
   ]
  },
  {
   "cell_type": "code",
   "execution_count": 7,
   "id": "94e56806-8174-4046-99f2-0415b45ebf82",
   "metadata": {},
   "outputs": [],
   "source": [
    "def dGammadT( rho, T ):\n",
    "    return -3.7542e-31/ (1+2.379e-5 * T ** 0.5475) ** 2 * T ** 0.4525 + 2.414568e-29 / (( 1+ 1.7858e-7 * T ** 0.75 ) * T ** 0.3) - \\\n",
    "            4.6199e-36 * T ** 0.45 / ((1 + 1.7858e-7 * T ** 0.75) ** 2 )"
   ]
  },
  {
   "cell_type": "code",
   "execution_count": 8,
   "id": "785172c8-e4cc-4d70-ba85-87a073beb0e3",
   "metadata": {},
   "outputs": [],
   "source": [
    "n_array = np.logspace( -1, 5, 10 )\n",
    "T_array = np.logspace( 1, 5, 10 )"
   ]
  },
  {
   "cell_type": "code",
   "execution_count": 9,
   "id": "135f71a2-d592-4cc6-b7d5-01d9ed21ad85",
   "metadata": {},
   "outputs": [
    {
     "ename": "NameError",
     "evalue": "name 'n' is not defined",
     "output_type": "error",
     "traceback": [
      "\u001b[0;31m---------------------------------------------------------------------------\u001b[0m",
      "\u001b[0;31mNameError\u001b[0m                                 Traceback (most recent call last)",
      "Cell \u001b[0;32mIn [9], line 3\u001b[0m\n\u001b[1;32m      1\u001b[0m \u001b[38;5;66;03m# Loop through Dens and Temp\u001b[39;00m\n\u001b[1;32m      2\u001b[0m \u001b[38;5;66;03m# Make plot m with rho vs. T and n with rho vs. T\u001b[39;00m\n\u001b[0;32m----> 3\u001b[0m total_cooling_rate \u001b[38;5;241m=\u001b[39m np\u001b[38;5;241m.\u001b[39mabs( rho \u001b[38;5;241m*\u001b[39m heating(rho, T) \u001b[38;5;241m-\u001b[39m rho \u001b[38;5;241m*\u001b[39m\u001b[38;5;241m*\u001b[39m \u001b[38;5;241m2\u001b[39m \u001b[38;5;241m*\u001b[39m \u001b[43mcooling\u001b[49m\u001b[43m(\u001b[49m\u001b[43mrho\u001b[49m\u001b[43m,\u001b[49m\u001b[43m \u001b[49m\u001b[43mT\u001b[49m\u001b[43m)\u001b[49m )\n\u001b[1;32m      4\u001b[0m m \u001b[38;5;241m=\u001b[39m rho \u001b[38;5;241m/\u001b[39m total_cooling_rate \u001b[38;5;241m*\u001b[39m np\u001b[38;5;241m.\u001b[39mabs( heating \u001b[38;5;241m+\u001b[39m rho \u001b[38;5;241m*\u001b[39m dGammadRho \u001b[38;5;241m-\u001b[39m \u001b[38;5;241m2\u001b[39m \u001b[38;5;241m*\u001b[39m rho \u001b[38;5;241m*\u001b[39m cooling(rho, T) \u001b[38;5;241m-\u001b[39m rho \u001b[38;5;241m*\u001b[39m\u001b[38;5;241m*\u001b[39m \u001b[38;5;241m2\u001b[39m \u001b[38;5;241m*\u001b[39mdLambdadRho  )\n\u001b[1;32m      5\u001b[0m n \u001b[38;5;241m=\u001b[39m T \u001b[38;5;241m/\u001b[39m total_cooling_rate \u001b[38;5;241m*\u001b[39m np\u001b[38;5;241m.\u001b[39mabs( n \u001b[38;5;241m*\u001b[39m dGammadT \u001b[38;5;241m-\u001b[39m n \u001b[38;5;241m*\u001b[39m\u001b[38;5;241m*\u001b[39m \u001b[38;5;241m2\u001b[39m \u001b[38;5;241m*\u001b[39m dLambdadT) \n",
      "Cell \u001b[0;32mIn [2], line 2\u001b[0m, in \u001b[0;36mcooling\u001b[0;34m(rho, T)\u001b[0m\n\u001b[1;32m      1\u001b[0m \u001b[38;5;28;01mdef\u001b[39;00m \u001b[38;5;21mcooling\u001b[39m( rho, T ):\n\u001b[0;32m----> 2\u001b[0m     CII \u001b[38;5;241m=\u001b[39m \u001b[38;5;241m1.5108e-26\u001b[39m \u001b[38;5;241m*\u001b[39m T \u001b[38;5;241m*\u001b[39m\u001b[38;5;241m*\u001b[39m \u001b[38;5;241m-\u001b[39m\u001b[38;5;241m0.25\u001b[39m \u001b[38;5;241m*\u001b[39m np\u001b[38;5;241m.\u001b[39mexp(\u001b[38;5;241m-\u001b[39m\u001b[38;5;241m92\u001b[39m\u001b[38;5;241m/\u001b[39mT) \u001b[38;5;241m*\u001b[39m \u001b[43mn\u001b[49m \u001b[38;5;241m*\u001b[39m\u001b[38;5;241m*\u001b[39m \u001b[38;5;241m-\u001b[39m\u001b[38;5;241m1\u001b[39m \u001b[38;5;241m+\u001b[39m \u001b[38;5;241m2.06e-27\u001b[39m \u001b[38;5;241m*\u001b[39m T \u001b[38;5;241m*\u001b[39m\u001b[38;5;241m*\u001b[39m \u001b[38;5;241m0.07\u001b[39m \u001b[38;5;241m*\u001b[39m np\u001b[38;5;241m.\u001b[39mexp(\u001b[38;5;241m-\u001b[39m\u001b[38;5;241m92\u001b[39m\u001b[38;5;241m/\u001b[39mT)\n\u001b[1;32m      3\u001b[0m     OI \u001b[38;5;241m=\u001b[39m \u001b[38;5;241m1.08e-28\u001b[39m \u001b[38;5;241m*\u001b[39m np\u001b[38;5;241m.\u001b[39mexp(\u001b[38;5;241m-\u001b[39m\u001b[38;5;241m228\u001b[39m\u001b[38;5;241m/\u001b[39mT) \u001b[38;5;241m+\u001b[39m \u001b[38;5;241m3.15e-29\u001b[39m \u001b[38;5;241m*\u001b[39m np\u001b[38;5;241m.\u001b[39mexp(\u001b[38;5;241m-\u001b[39m\u001b[38;5;241m326\u001b[39m\u001b[38;5;241m/\u001b[39mT)\n\u001b[1;32m      4\u001b[0m     H2 \u001b[38;5;241m=\u001b[39m \u001b[38;5;241m1.1081e-21\u001b[39m \u001b[38;5;241m*\u001b[39m T \u001b[38;5;241m*\u001b[39m\u001b[38;5;241m*\u001b[39m \u001b[38;5;241m0.25\u001b[39m \u001b[38;5;241m*\u001b[39m np\u001b[38;5;241m.\u001b[39mexp(\u001b[38;5;241m-\u001b[39m\u001b[38;5;241m118400\u001b[39m\u001b[38;5;241m/\u001b[39mT) \u001b[38;5;241m*\u001b[39m n \u001b[38;5;241m*\u001b[39m\u001b[38;5;241m*\u001b[39m \u001b[38;5;241m-\u001b[39m\u001b[38;5;241m1\u001b[39m\n",
      "\u001b[0;31mNameError\u001b[0m: name 'n' is not defined"
     ]
    }
   ],
   "source": [
    "for n in n_array:\n",
    "    for T in T_array:\n",
    "        total_cooling_rate = np.abs( rho * heating(rho, T) - rho ** 2 * cooling(rho, T) )\n",
    "m = rho / total_cooling_rate * np.abs( heating + rho * dGammadRho - 2 * rho * cooling(rho, T) - rho ** 2 *dLambdadRho  )\n",
    "n = T / total_cooling_rate * np.abs( n * dGammadT - n ** 2 * dLambdadT) "
   ]
  },
  {
   "cell_type": "code",
   "execution_count": 6,
   "id": "ec675e79-ab98-4bf3-9bc7-7fb80adc8d39",
   "metadata": {},
   "outputs": [
    {
     "name": "stdout",
     "output_type": "stream",
     "text": [
      "c 0.2857142857142857\n",
      "d -1.7142857142857144\n"
     ]
    }
   ],
   "source": [
    "gamma = 5/3\n",
    "c = 2 * ( 3 - 2 * m ) / ( 5 - 2 * n - 2 * m )\n",
    "d =  2 * ( ( 3 - 2 * m ) / ( 5 - 2 * n - 2 * m ) - 1 )\n",
    "print('c', c )\n",
    "print('d', d )"
   ]
  },
  {
   "cell_type": "code",
   "execution_count": 10,
   "id": "f8176f15-c775-4712-a0f7-a1e7aaf64233",
   "metadata": {},
   "outputs": [
    {
     "name": "stdout",
     "output_type": "stream",
     "text": [
      "Gamma_1 0.8333333333333334\n",
      "Gamma_2 0.8333333333333334\n",
      "Gamma_3 1.0\n"
     ]
    }
   ],
   "source": [
    "Gamma_1 = ( gamma * 2 * ( d / 3 + 1 ) + ( n - m ) * ( c - ( gamma - 1 ) * d ) ) / ( 2 * ( d / 3 + 1 ) + ( n - 1 ) * ( c - ( gamma - 1 ) * d ) )\n",
    "Gamma_2 = 1 + ( 3 - 2 * m ) / ( 2 * ( n - 1 ) )\n",
    "Gamma_3 = 1 + ( 2 - m ) / ( n - 1 )\n",
    "print('Gamma_1', Gamma_1 )\n",
    "print('Gamma_2', Gamma_2 )\n",
    "print('Gamma_3', Gamma_3 )"
   ]
  },
  {
   "cell_type": "code",
   "execution_count": null,
   "id": "baec2f48-2aed-45c5-95a7-101541e28ba4",
   "metadata": {},
   "outputs": [],
   "source": []
  }
 ],
 "metadata": {
  "kernelspec": {
   "display_name": "Python 3 (ipykernel)",
   "language": "python",
   "name": "python3"
  },
  "language_info": {
   "codemirror_mode": {
    "name": "ipython",
    "version": 3
   },
   "file_extension": ".py",
   "mimetype": "text/x-python",
   "name": "python",
   "nbconvert_exporter": "python",
   "pygments_lexer": "ipython3",
   "version": "3.11.0"
  }
 },
 "nbformat": 4,
 "nbformat_minor": 5
}
