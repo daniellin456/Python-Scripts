{
 "cells": [
  {
   "cell_type": "code",
   "execution_count": 89,
   "metadata": {
    "collapsed": true
   },
   "outputs": [],
   "source": [
    "from sympy import *"
   ]
  },
  {
   "cell_type": "code",
   "execution_count": 90,
   "outputs": [],
   "source": [
    "nH, T = symbols('nH, T')"
   ],
   "metadata": {
    "collapsed": false
   }
  },
  {
   "cell_type": "code",
   "execution_count": 91,
   "outputs": [],
   "source": [
    "G0 = 1.0 / 1.7"
   ],
   "metadata": {
    "collapsed": false
   }
  },
  {
   "cell_type": "markdown",
   "source": [
    "##### x >= 0.1"
   ],
   "metadata": {
    "collapsed": false
   }
  },
  {
   "cell_type": "code",
   "execution_count": 92,
   "outputs": [],
   "source": [
    "param = G0 * sqrt(T) / (nH * 0.1)\n",
    "bet = 0.74 / (T ** 0.068)\n",
    "CII_Cooling = 92.0 * 1.38e-16 * 2.0 * (\n",
    "            (2.8E-7 * (T / 100.0) ** -0.5) * 0.1 + 8e-10 * (T / 100.0) ** 0.07) * 3.5e-4 * 0.4 * exp(-92.0 / T)\n",
    "OI_Cooling = 1e-26 * sqrt(T) * (24.0 * exp(-228.0 / T) + 7.0 * exp(-326.0 / T)) * 4.5E-4\n",
    "H2_Cooling = 7.3E-19 * 0.1 * exp(-118400.0 / T)\n",
    "CII_Line_Cooling = 6.2e4 * 1.38e-16 * 1.0 * (2.3e-8 * (T / 10000.0) ** -0.5 * 0.1 + 1e-12) * exp(\n",
    "    -6.2e4 / T) * 3.5e-4 * 0.4\n",
    "OI_Line_Cooling = 4.5e-4 * (2.3e4 * 1.38e-16 / 3.0 * (5.1e-9 * (T / 10000.) ** 0.57 * 0.1 + 1e-12) * exp(\n",
    "    -2.3e4 / T) + 4.9e4 * 1.38e-16 / 3.0 * (2.5e-9 * (T / 10000.) ** 0.57 * 0.1 + 1e-12) * exp(\n",
    "    -4.9e4 / T) + 2.6e4 * 1.38e-16 * 1.0 * (5.2e-9 * (T / 10000.) ** 0.57 * 0.1 + 1e-12) * exp(-2.6e4 / T))\n",
    "Recombination_Cooling = 4.65E-30 * (T ** 0.94) * (param ** bet) * 0.1\n",
    "epsilon = 4.9E-2 / (1.0 + (param / 1925.) ** 0.73) + 3.7E-2 * (T / 1e4) ** 0.7 / (1. + (param / 5e3))\n",
    "UV_Heating = 1e-24 * epsilon * G0"
   ],
   "metadata": {
    "collapsed": false
   }
  },
  {
   "cell_type": "code",
   "execution_count": 93,
   "outputs": [
    {
     "name": "stdout",
     "output_type": "stream",
     "text": [
      "=========== x >= 0.1 ==========\n",
      "dCII_Cooling_dRho = 0\n",
      "dOI_Cooling_dRho = 0\n",
      "dH2_Cooling_dRho = 0\n",
      "dCII_Line_Cooling_dRho = 0\n",
      "dOI_Line_Cooling_dRho = 0\n",
      "dRecombination_Cooling_dRho = -3.441e-31*T**0.872*(5.88235294117647*sqrt(T)/nH)**(0.74/T**0.068)/nH\n",
      "dUV_Heating_dRho 4.05820402221877e-32*T**1.2/(nH**2*(0.00117647058823529*sqrt(T)/nH + 1.0)**2) + 3.07049129489545e-28*(sqrt(T)/nH)**0.73/(nH*(0.0145927738365174*(sqrt(T)/nH)**0.73 + 1.0)**2)\n",
      "===============================\n",
      "dCII_Cooling_dTemp = (-4.976832e-25/T**1.5 + 1.44215842722077e-28/T**0.93)*exp(-92.0/T) + 92.0*(9.953664e-25/T**0.5 + 2.0602263246011e-27*T**0.07)*exp(-92.0/T)/T**2\n",
      "dOI_Cooling_dTemp = 4.5e-30*sqrt(T)*(2282.0*exp(-326.0/T)/T**2 + 5472.0*exp(-228.0/T)/T**2) + 2.25e-30*(7.0*exp(-326.0/T) + 24.0*exp(-228.0/T))/sqrt(T)\n",
      "dH2_Cooling_dTemp = 8.6432e-15*exp(-118400.0/T)/T**2\n",
      "dCII_Line_Cooling_dTemp = -1.377516e-22*exp(-62000.0/T)/T**1.5 + 8.68*(1.96788e-18/T**0.5 + 8.556e-24)*exp(-62000.0/T)/T**2\n",
      "dOI_Line_Cooling_dTemp = 7.58544894877166e-28*exp(-49000.0/T)/T**0.43 + 2.51155762744636e-27*exp(-26000.0/T)/T**0.43 + 7.26345438115033e-28*exp(-23000.0/T)/T**0.43 + 10.35*(2.83175609401572e-24*T**0.57 + 1.058e-24)*exp(-23000.0/T)/T**2 + 22.05*(2.95729003850747e-24*T**0.57 + 2.254e-24)*exp(-49000.0/T)/T**2 + 11.7*(9.79164767035616e-24*T**0.57 + 3.588e-24)*exp(-26000.0/T)/T**2\n",
      "dRecombination_Cooling_dTemp = 4.371e-31*(5.88235294117647*sqrt(T)/nH)**(0.74/T**0.068)/T**0.0600000000000001 + 4.65e-31*T**0.94*(5.88235294117647*sqrt(T)/nH)**(0.74/T**0.068)*(-0.05032*log(5.88235294117647*sqrt(T)/nH)/T**1.068 + 0.37/T**1.068)\n",
      "dUV_Heating_dTemp 2.41463139322017e-29/(T**0.3*(0.00117647058823529*sqrt(T)/nH + 1.0)) - 2.02910201110938e-32*T**0.2/(nH*(0.00117647058823529*sqrt(T)/nH + 1.0)**2) - 1.53524564744772e-28*(sqrt(T)/nH)**0.73/(T*(0.0145927738365174*(sqrt(T)/nH)**0.73 + 1.0)**2)\n",
      "===============================\n"
     ]
    }
   ],
   "source": [
    "print(\"=========== x >= 0.1 ==========\")\n",
    "print(\"dCII_Cooling_dRho =\", diff(CII_Cooling, nH))\n",
    "print(\"dOI_Cooling_dRho =\", diff(OI_Cooling, nH))\n",
    "print(\"dH2_Cooling_dRho =\", diff(H2_Cooling, nH))\n",
    "print(\"dCII_Line_Cooling_dRho =\", diff(CII_Line_Cooling, nH))\n",
    "print(\"dOI_Line_Cooling_dRho =\", diff(OI_Line_Cooling, nH))\n",
    "print(\"dRecombination_Cooling_dRho =\", diff(Recombination_Cooling, nH))\n",
    "print(\"dUV_Heating_dRho\", diff(UV_Heating, nH))\n",
    "print(\"===============================\")\n",
    "print(\"dCII_Cooling_dTemp =\", diff(CII_Cooling, T))\n",
    "print(\"dOI_Cooling_dTemp =\", diff(OI_Cooling, T))\n",
    "print(\"dH2_Cooling_dTemp =\", diff(H2_Cooling, T))\n",
    "print(\"dCII_Line_Cooling_dTemp =\", diff(CII_Line_Cooling, T))\n",
    "print(\"dOI_Line_Cooling_dTemp =\", diff(OI_Line_Cooling, T))\n",
    "print(\"dRecombination_Cooling_dTemp =\", diff(Recombination_Cooling, T))\n",
    "print(\"dUV_Heating_dTemp\", diff(UV_Heating, T))\n",
    "print(\"===============================\")"
   ],
   "metadata": {
    "collapsed": false
   }
  },
  {
   "cell_type": "markdown",
   "source": [
    "##### x <= 1.4e-4"
   ],
   "metadata": {
    "collapsed": false
   }
  },
  {
   "cell_type": "code",
   "execution_count": 94,
   "outputs": [],
   "source": [
    "param = G0 * sqrt(T) / (nH * 1.4e-4)\n",
    "bet = 0.74 / (T ** 0.068)\n",
    "CII_Cooling = 92.0 * 1.38e-16 * 2.0 * (\n",
    "            (2.8E-7 * (T / 100.0) ** -0.5) * 1.4e-4 + 8e-10 * (T / 100.0) ** 0.07) * 3.5e-4 * 0.4 * exp(-92.0 / T)\n",
    "OI_Cooling = 1e-26 * sqrt(T) * (24.0 * exp(-228.0 / T) + 7.0 * exp(-326.0 / T)) * 4.5E-4\n",
    "H2_Cooling = 7.3E-19 * 1.4e-4 * exp(-118400.0 / T)\n",
    "CII_Line_Cooling = 6.2e4 * 1.38e-16 * 1.0 * (2.3e-8 * (T / 10000.0) ** -0.5 * 1.4e-4 + 1e-12) * exp(\n",
    "    -6.2e4 / T) * 3.5e-4 * 0.4\n",
    "OI_Line_Cooling = 4.5e-4 * (2.3e4 * 1.38e-16 / 3.0 * (5.1e-9 * (T / 10000.) ** 0.57 * 1.4e-4 + 1e-12) * exp(\n",
    "    -2.3e4 / T) + 4.9e4 * 1.38e-16 / 3.0 * (2.5e-9 * (T / 10000.) ** 0.57 * 1.4e-4 + 1e-12) * exp(\n",
    "    -4.9e4 / T) + 2.6e4 * 1.38e-16 * 1.0 * (5.2e-9 * (T / 10000.) ** 0.57 * 1.4e-4 + 1e-12) * exp(-2.6e4 / T))\n",
    "Recombination_Cooling = 4.65E-30 * (T ** 0.94) * (param ** bet) * 1.4e-4\n",
    "epsilon = 4.9E-2 / (1.0 + (param / 1925.) ** 0.73) + 3.7E-2 * (T / 1e4) ** 0.7 / (1. + (param / 5e3))\n",
    "UV_Heating = 1e-24 * epsilon * G0"
   ],
   "metadata": {
    "collapsed": false
   }
  },
  {
   "cell_type": "code",
   "execution_count": 95,
   "outputs": [
    {
     "name": "stdout",
     "output_type": "stream",
     "text": [
      "========= x <= 1.4e-4 =========\n",
      "dCII_Cooling_dRho = 0\n",
      "dOI_Cooling_dRho = 0\n",
      "dH2_Cooling_dRho = 0\n",
      "dCII_Line_Cooling_dRho = 0\n",
      "dOI_Line_Cooling_dRho = 0\n",
      "dRecombination_Cooling_dRho = -4.8174e-34*T**0.872*(4201.68067226891*sqrt(T)/nH)**(0.74/T**0.068)/nH\n",
      "dUV_Heating_dRho 2.89871715872769e-29*T**1.2/(nH**2*(0.840336134453782*sqrt(T)/nH + 1.0)**2) + 1.19016077589066e-26*(sqrt(T)/nH)**0.73/(nH*((sqrt(T)/nH)**0.73 + 0.565634140065452)**2)\n",
      "===============================\n",
      "dCII_Cooling_dTemp = (-6.9675648e-28/T**1.5 + 1.44215842722077e-28/T**0.93)*exp(-92.0/T) + 92.0*(1.39351296e-27/T**0.5 + 2.0602263246011e-27*T**0.07)*exp(-92.0/T)/T**2\n",
      "dOI_Cooling_dTemp = 4.5e-30*sqrt(T)*(2282.0*exp(-326.0/T)/T**2 + 5472.0*exp(-228.0/T)/T**2) + 2.25e-30*(7.0*exp(-326.0/T) + 24.0*exp(-228.0/T))/sqrt(T)\n",
      "dH2_Cooling_dTemp = 1.210048e-17*exp(-118400.0/T)/T**2\n",
      "dCII_Line_Cooling_dTemp = -1.9285224e-25*exp(-62000.0/T)/T**1.5 + 8.68*(2.755032e-21/T**0.5 + 8.556e-24)*exp(-62000.0/T)/T**2\n",
      "dOI_Line_Cooling_dTemp = 1.06196285282803e-30*exp(-49000.0/T)/T**0.43 + 3.5161806784249e-30*exp(-26000.0/T)/T**0.43 + 1.01688361336105e-30*exp(-23000.0/T)/T**0.43 + 10.35*(3.96445853162201e-27*T**0.57 + 1.058e-24)*exp(-23000.0/T)/T**2 + 22.05*(4.14020605391046e-27*T**0.57 + 2.254e-24)*exp(-49000.0/T)/T**2 + 11.7*(1.37083067384986e-26*T**0.57 + 3.588e-24)*exp(-26000.0/T)/T**2\n",
      "dRecombination_Cooling_dTemp = 6.1194e-34*(4201.68067226891*sqrt(T)/nH)**(0.74/T**0.068)/T**0.0600000000000001 + 6.51e-34*T**0.94*(4201.68067226891*sqrt(T)/nH)**(0.74/T**0.068)*(-0.05032*log(4201.68067226891*sqrt(T)/nH)/T**1.068 + 0.37/T**1.068)\n",
      "dUV_Heating_dTemp 2.41463139322017e-29/(T**0.3*(0.840336134453782*sqrt(T)/nH + 1.0)) - 1.44935857936385e-29*T**0.2/(nH*(0.840336134453782*sqrt(T)/nH + 1.0)**2) - 5.9508038794533e-27*(sqrt(T)/nH)**0.73/(T*((sqrt(T)/nH)**0.73 + 0.565634140065452)**2)\n",
      "===============================\n"
     ]
    }
   ],
   "source": [
    "print(\"========= x <= 1.4e-4 =========\")\n",
    "print(\"dCII_Cooling_dRho =\", diff(CII_Cooling, nH))\n",
    "print(\"dOI_Cooling_dRho =\", diff(OI_Cooling, nH))\n",
    "print(\"dH2_Cooling_dRho =\", diff(H2_Cooling, nH))\n",
    "print(\"dCII_Line_Cooling_dRho =\", diff(CII_Line_Cooling, nH))\n",
    "print(\"dOI_Line_Cooling_dRho =\", diff(OI_Line_Cooling, nH))\n",
    "print(\"dRecombination_Cooling_dRho =\", diff(Recombination_Cooling, nH))\n",
    "print(\"dUV_Heating_dRho\", diff(UV_Heating, nH))\n",
    "print(\"===============================\")\n",
    "print(\"dCII_Cooling_dTemp =\", diff(CII_Cooling, T))\n",
    "print(\"dOI_Cooling_dTemp =\", diff(OI_Cooling, T))\n",
    "print(\"dH2_Cooling_dTemp =\", diff(H2_Cooling, T))\n",
    "print(\"dCII_Line_Cooling_dTemp =\", diff(CII_Line_Cooling, T))\n",
    "print(\"dOI_Line_Cooling_dTemp =\", diff(OI_Line_Cooling, T))\n",
    "print(\"dRecombination_Cooling_dTemp =\", diff(Recombination_Cooling, T))\n",
    "print(\"dUV_Heating_dTemp\", diff(UV_Heating, T))\n",
    "print(\"===============================\")"
   ],
   "metadata": {
    "collapsed": false
   }
  },
  {
   "cell_type": "markdown",
   "source": [
    "##### 1.4e-4 < x < 0.1"
   ],
   "metadata": {
    "collapsed": false
   }
  },
  {
   "cell_type": "code",
   "execution_count": 96,
   "outputs": [],
   "source": [
    "ne = 2.4e-3 * ((T / 100.0) ** 0.25) / 0.5\n",
    "param = G0 * sqrt(T) / (nH * ne / nH)\n",
    "bet = 0.74 / (T ** 0.068)\n",
    "CII_Cooling = 92.0 * 1.38e-16 * 2.0 * (\n",
    "        (2.8E-7 * (T / 100.0) ** -0.5) * ne / nH + 8e-10 * (T / 100.0) ** 0.07) * 3.5e-4 * 0.4 * exp(-92.0 / T)\n",
    "OI_Cooling = 1e-26 * sqrt(T) * (24.0 * exp(-228.0 / T) + 7.0 * exp(-326.0 / T)) * 4.5E-4\n",
    "H2_Cooling = 7.3E-19 * ne / nH * exp(-118400.0 / T)\n",
    "CII_Line_Cooling = 6.2e4 * 1.38e-16 * 1.0 * (2.3e-8 * (T / 10000.0) ** -0.5 * ne / nH + 1e-12) * exp(\n",
    "    -6.2e4 / T) * 3.5e-4 * 0.4\n",
    "OI_Line_Cooling = 4.5e-4 * (2.3e4 * 1.38e-16 / 3.0 * (5.1e-9 * (T / 10000.) ** 0.57 * ne / nH + 1e-12) * exp(\n",
    "    -2.3e4 / T) + 4.9e4 * 1.38e-16 / 3.0 * (2.5e-9 * (T / 10000.) ** 0.57 * ne / nH + 1e-12) * exp(\n",
    "    -4.9e4 / T) + 2.6e4 * 1.38e-16 * 1.0 * (5.2e-9 * (T / 10000.) ** 0.57 * ne / nH + 1e-12) * exp(-2.6e4 / T))\n",
    "Recombination_Cooling = 4.65E-30 * (T ** 0.94) * (param ** bet) * ne / nH\n",
    "epsilon = 4.9E-2 / (1.0 + (param / 1925.) ** 0.73) + 3.7E-2 * (T / 1e4) ** 0.7 / (1. + (param / 5e3))\n",
    "UV_Heating = 1e-24 * epsilon * G0"
   ],
   "metadata": {
    "collapsed": false
   }
  },
  {
   "cell_type": "code",
   "execution_count": 97,
   "outputs": [
    {
     "name": "stdout",
     "output_type": "stream",
     "text": [
      "======= 1.4e-4 < x < 0.1 =======\n",
      "dCII_Cooling_dRho = -1.51085996659307e-26*exp(-92.0/T)/(T**0.25*nH**2)\n",
      "dOI_Cooling_dRho = 0\n",
      "dH2_Cooling_dRho = -1.108062092123e-21*T**0.25*exp(-118400.0/T)/nH**2\n",
      "dCII_Line_Cooling_dRho = -4.18184455039153e-24*exp(-62000.0/T)/(T**0.25*nH**2)\n",
      "dOI_Line_Cooling_dRho = -2.0199828002567e-29*T**0.82*exp(-49000.0/T)/nH**2 - 6.68820427578872e-29*T**0.82*exp(-26000.0/T)/nH**2 - 1.93423659159274e-29*T**0.82*exp(-23000.0/T)/nH**2\n",
      "dRecombination_Cooling_dRho = -7.05820373749582e-33*T**1.19*(387.534026981419*T**0.25)**(0.74/T**0.068)/nH**2\n",
      "dUV_Heating_dRho 0\n",
      "===============================\n",
      "dCII_Cooling_dTemp = (-3.77714991648267e-27/(T**1.25*nH) + 1.44215842722077e-28/T**0.93)*exp(-92.0/T) + 92.0*(1.51085996659307e-26/(T**0.25*nH) + 2.0602263246011e-27*T**0.07)*exp(-92.0/T)/T**2\n",
      "dOI_Cooling_dTemp = 4.5e-30*sqrt(T)*(2282.0*exp(-326.0/T)/T**2 + 5472.0*exp(-228.0/T)/T**2) + 2.25e-30*(7.0*exp(-326.0/T) + 24.0*exp(-228.0/T))/sqrt(T)\n",
      "dH2_Cooling_dTemp = 1.31194551707363e-16*exp(-118400.0/T)/(T**1.75*nH) + 2.7701552303075e-22*exp(-118400.0/T)/(T**0.75*nH)\n",
      "dCII_Line_Cooling_dTemp = -1.04546113759788e-24*exp(-62000.0/T)/(T**1.25*nH) + 8.68*(2.98703182170823e-20/(T**0.25*nH) + 8.556e-24)*exp(-62000.0/T)/T**2\n",
      "dOI_Line_Cooling_dTemp = 1.6563858962105e-29*exp(-49000.0/T)/(T**0.18*nH) + 5.48432750614675e-29*exp(-26000.0/T)/(T**0.18*nH) + 1.58607400510605e-29*exp(-23000.0/T)/(T**0.18*nH) + 10.35*(4.29830353687276e-26*T**0.82/nH + 1.058e-24)*exp(-23000.0/T)/T**2 + 22.05*(4.48885066723712e-26*T**0.82/nH + 2.254e-24)*exp(-49000.0/T)/T**2 + 11.7*(1.48626761684194e-25*T**0.82/nH + 3.588e-24)*exp(-26000.0/T)/T**2\n",
      "dRecombination_Cooling_dTemp = 8.39926244762003e-33*T**0.19*(387.534026981419*T**0.25)**(0.74/T**0.068)/nH + 7.05820373749582e-33*T**1.19*(387.534026981419*T**0.25)**(0.74/T**0.068)*(-0.05032*log(387.534026981419*T**0.25)/T**1.068 + 0.185/T**1.068)/nH\n",
      "dUV_Heating_dTemp -1.63245709529796e-27/(T**0.8175*(0.310335707241436*T**0.1825 + 1.0)**2) + 2.41463139322017e-29/(T**0.3*(0.0775068053962838*T**0.25 + 1.0)) - 6.68394162493118e-31/(T**0.05*(0.0775068053962838*T**0.25 + 1.0)**2)\n",
      "===============================\n"
     ]
    }
   ],
   "source": [
    "print(\"======= 1.4e-4 < x < 0.1 =======\")\n",
    "print(\"dCII_Cooling_dRho =\", diff(CII_Cooling, nH))\n",
    "print(\"dOI_Cooling_dRho =\", diff(OI_Cooling, nH))\n",
    "print(\"dH2_Cooling_dRho =\", diff(H2_Cooling, nH))\n",
    "print(\"dCII_Line_Cooling_dRho =\", diff(CII_Line_Cooling, nH))\n",
    "print(\"dOI_Line_Cooling_dRho =\", diff(OI_Line_Cooling, nH))\n",
    "print(\"dRecombination_Cooling_dRho =\", diff(Recombination_Cooling, nH))\n",
    "print(\"dUV_Heating_dRho\", diff(UV_Heating, nH))\n",
    "print(\"===============================\")\n",
    "print(\"dCII_Cooling_dTemp =\", diff(CII_Cooling, T))\n",
    "print(\"dOI_Cooling_dTemp =\", diff(OI_Cooling, T))\n",
    "print(\"dH2_Cooling_dTemp =\", diff(H2_Cooling, T))\n",
    "print(\"dCII_Line_Cooling_dTemp =\", diff(CII_Line_Cooling, T))\n",
    "print(\"dOI_Line_Cooling_dTemp =\", diff(OI_Line_Cooling, T))\n",
    "print(\"dRecombination_Cooling_dTemp =\", diff(Recombination_Cooling, T))\n",
    "print(\"dUV_Heating_dTemp\", diff(UV_Heating, T))\n",
    "print(\"===============================\")"
   ],
   "metadata": {
    "collapsed": false
   }
  }
 ],
 "metadata": {
  "kernelspec": {
   "display_name": "Python 3",
   "language": "python",
   "name": "python3"
  },
  "language_info": {
   "codemirror_mode": {
    "name": "ipython",
    "version": 2
   },
   "file_extension": ".py",
   "mimetype": "text/x-python",
   "name": "python",
   "nbconvert_exporter": "python",
   "pygments_lexer": "ipython2",
   "version": "2.7.6"
  }
 },
 "nbformat": 4,
 "nbformat_minor": 0
}
