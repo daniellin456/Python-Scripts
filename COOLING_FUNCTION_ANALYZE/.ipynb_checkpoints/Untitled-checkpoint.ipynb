{
 "cells": [
  {
   "cell_type": "markdown",
   "id": "80a48c1b-ba47-4e4f-a25c-1684205b7306",
   "metadata": {},
   "source": [
    "$\\lambda$"
   ]
  },
  {
   "cell_type": "code",
   "execution_count": 2,
   "id": "ba242f5e-11bf-4d7a-b51b-d7dcef3ba1db",
   "metadata": {},
   "outputs": [],
   "source": [
    "import numpy as np\n",
    "import matplotlib.pyplot as plt\n",
    "from plot_style import *\n",
    "plot_style()"
   ]
  },
  {
   "cell_type": "code",
   "execution_count": null,
   "id": "f40a4352-a4e2-43ef-8597-ed4f800f2361",
   "metadata": {},
   "outputs": [],
   "source": [
    "Cooling_CII   = 92.0 * 1.38E-16 * 2.0 * (( 2.8E-7 * ( T/100.0 ) ** -0.5 ) * x + 8e-10 * (T/100.0)** 0.07)* 3.5e-4 * 0.4 * np.exp(-92.0/ T)\n",
    "Cooling_O     = 1e-26 * np.sqrt(T) * ( 24.0 * np.exp( -228.0 / T) + 7.0 * np.exp( -326.0 / T ) ) * 4.5E-4\n",
    "Cooling_H     = 7.3E-19 * x * np.exp( -118400./ T )\n",
    "Cooling_CII_M = 6.2e4 * 1.38e-16 * 1.0 * ( 2.3e-8 * ( T / 10000.0 ) ** -0.5 * x + 1e-12 ) * np.exp( -6.2e4 / T) * 3.5e-4 * 0.4\n",
    "Cooling_O_M = 2.3e4 * 1.38e-16 / 3.0 * ( 5.1e-9 * ( T/10000.) ** 0.57 * x + 1e-12) * np.exp(-2.3e4/T)\n",
    "Cooling_O_M = Cooling_O_M + 4.9e4 * 1.38e-16 / 3.0 * ( 2.5e-9 * (T/10000.)**(0.57) * x + 1e-12) * np.exp(-4.9e4/T)\n",
    "Cooling_O_M = Cooling_O_M + 2.6e4 * 1.38e-16 * 1.0 * ( 5.2e-9 * (T/10000.)**(0.57) * x + 1e-12) * np.exp(-2.6e4/T)\n",
    "Cooling_O_M = Cooling_O_M * 4.5e-4\n",
    "Cooling_Rec = 4.65E-30* ( T**0.94 )*( param ** bet ) * x"
   ]
  },
  {
   "cell_type": "code",
   "execution_count": null,
   "id": "cee678af-4529-4ae7-ba67-fb7a0bdde61e",
   "metadata": {},
   "outputs": [],
   "source": [
    "param = G0 * np.sqrt(T) / ( nH * x )\n",
    "epsilon = 4.9E-2 / (1.0 + (param/1925.)**0.73) + 3.7E-2 * (T/1e4)**0.7 / (1. + (param/5e3) )\n",
    "heating = 1e-24 * epsilon * G0 * nH"
   ]
  },
  {
   "cell_type": "code",
   "execution_count": null,
   "id": "f2fd3c7d-810f-44eb-9b8f-41cb97577025",
   "metadata": {},
   "outputs": [],
   "source": [
    "cooling_rate = (Cooling_CII + Cooling_O + Cooling_CII_M + Cooling_O_M + Cooling_Rec) * nH ** 2\n",
    "heating_rate = heating * nH\n",
    "Lambda = np.abs( heating - cooling )"
   ]
  },
  {
   "cell_type": "code",
   "execution_count": null,
   "id": "c1afa283-c604-4e8c-b880-67b27c9f90b6",
   "metadata": {},
   "outputs": [],
   "source": [
    "dLambda_drho =\n",
    "dLambda_dT = "
   ]
  }
 ],
 "metadata": {
  "kernelspec": {
   "display_name": "Python 3",
   "language": "python",
   "name": "python3"
  },
  "language_info": {
   "codemirror_mode": {
    "name": "ipython",
    "version": 3
   },
   "file_extension": ".py",
   "mimetype": "text/x-python",
   "name": "python",
   "nbconvert_exporter": "python",
   "pygments_lexer": "ipython3",
   "version": "3.6.8"
  }
 },
 "nbformat": 4,
 "nbformat_minor": 5
}
